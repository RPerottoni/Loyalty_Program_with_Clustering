{
 "cells": [
  {
   "cell_type": "code",
   "execution_count": null,
   "id": "19586558-18f3-4c77-be80-01b6b5d3ae88",
   "metadata": {},
   "outputs": [],
   "source": [
    "An EDA of cluster formed by the machine learning algorithm"
   ]
  },
  {
   "cell_type": "markdown",
   "id": "005f5e71-2bbe-42ae-8305-af02bb349894",
   "metadata": {},
   "source": [
    "# 0. IMPORTS"
   ]
  },
  {
   "cell_type": "code",
   "execution_count": 1,
   "id": "59679bd6-44e4-4745-8579-6a813cba98af",
   "metadata": {},
   "outputs": [],
   "source": [
    "import pandas as pd\n",
    "import streamlit as st"
   ]
  },
  {
   "cell_type": "markdown",
   "id": "00ec482d-4ab8-4d2d-beb0-209a41657d5f",
   "metadata": {},
   "source": [
    "## 0.1 HELPER FUNCTIONS"
   ]
  },
  {
   "cell_type": "markdown",
   "id": "70fffd5d-9800-4a9a-acaf-160f90ea958e",
   "metadata": {},
   "source": [
    "# 1 LOADING DATA"
   ]
  },
  {
   "cell_type": "code",
   "execution_count": 2,
   "id": "ba9d23e8-0a90-41bf-9777-587c90448903",
   "metadata": {},
   "outputs": [],
   "source": [
    "df_ml = pd.read_csv(\"../data/processed/ml_cluster.csv\")"
   ]
  },
  {
   "cell_type": "code",
   "execution_count": 3,
   "id": "0445d104-bf96-4744-9e33-e0fa99bf9207",
   "metadata": {},
   "outputs": [
    {
     "data": {
      "text/html": [
       "<div>\n",
       "<style scoped>\n",
       "    .dataframe tbody tr th:only-of-type {\n",
       "        vertical-align: middle;\n",
       "    }\n",
       "\n",
       "    .dataframe tbody tr th {\n",
       "        vertical-align: top;\n",
       "    }\n",
       "\n",
       "    .dataframe thead th {\n",
       "        text-align: right;\n",
       "    }\n",
       "</style>\n",
       "<table border=\"1\" class=\"dataframe\">\n",
       "  <thead>\n",
       "    <tr style=\"text-align: right;\">\n",
       "      <th></th>\n",
       "      <th>customer_id</th>\n",
       "      <th>gross_revenue</th>\n",
       "      <th>recency_days</th>\n",
       "      <th>qty_invoices</th>\n",
       "      <th>qty_prod_purchased</th>\n",
       "      <th>range_of_products</th>\n",
       "      <th>avg_ticket</th>\n",
       "      <th>frequency</th>\n",
       "      <th>qty_returns</th>\n",
       "      <th>avg_qty_products_purchased</th>\n",
       "      <th>week_day</th>\n",
       "      <th>month</th>\n",
       "      <th>cluster</th>\n",
       "    </tr>\n",
       "  </thead>\n",
       "  <tbody>\n",
       "    <tr>\n",
       "      <th>0</th>\n",
       "      <td>17850</td>\n",
       "      <td>4046.51</td>\n",
       "      <td>372</td>\n",
       "      <td>34</td>\n",
       "      <td>1191</td>\n",
       "      <td>204</td>\n",
       "      <td>19.835833</td>\n",
       "      <td>17.000000</td>\n",
       "      <td>37.0</td>\n",
       "      <td>35.029412</td>\n",
       "      <td>2.0</td>\n",
       "      <td>11.0</td>\n",
       "      <td>4</td>\n",
       "    </tr>\n",
       "    <tr>\n",
       "      <th>1</th>\n",
       "      <td>13047</td>\n",
       "      <td>2392.96</td>\n",
       "      <td>31</td>\n",
       "      <td>10</td>\n",
       "      <td>1159</td>\n",
       "      <td>130</td>\n",
       "      <td>18.407385</td>\n",
       "      <td>0.029155</td>\n",
       "      <td>36.0</td>\n",
       "      <td>115.900000</td>\n",
       "      <td>1.0</td>\n",
       "      <td>11.0</td>\n",
       "      <td>5</td>\n",
       "    </tr>\n",
       "    <tr>\n",
       "      <th>2</th>\n",
       "      <td>12583</td>\n",
       "      <td>6507.44</td>\n",
       "      <td>2</td>\n",
       "      <td>15</td>\n",
       "      <td>4854</td>\n",
       "      <td>225</td>\n",
       "      <td>28.921956</td>\n",
       "      <td>0.040323</td>\n",
       "      <td>51.0</td>\n",
       "      <td>323.600000</td>\n",
       "      <td>1.0</td>\n",
       "      <td>11.0</td>\n",
       "      <td>8</td>\n",
       "    </tr>\n",
       "    <tr>\n",
       "      <th>3</th>\n",
       "      <td>13748</td>\n",
       "      <td>948.25</td>\n",
       "      <td>95</td>\n",
       "      <td>5</td>\n",
       "      <td>439</td>\n",
       "      <td>28</td>\n",
       "      <td>33.866071</td>\n",
       "      <td>0.017921</td>\n",
       "      <td>0.0</td>\n",
       "      <td>87.800000</td>\n",
       "      <td>2.0</td>\n",
       "      <td>4.0</td>\n",
       "      <td>9</td>\n",
       "    </tr>\n",
       "    <tr>\n",
       "      <th>4</th>\n",
       "      <td>15291</td>\n",
       "      <td>4396.00</td>\n",
       "      <td>25</td>\n",
       "      <td>15</td>\n",
       "      <td>1949</td>\n",
       "      <td>96</td>\n",
       "      <td>45.791667</td>\n",
       "      <td>0.042980</td>\n",
       "      <td>29.0</td>\n",
       "      <td>129.933333</td>\n",
       "      <td>6.0</td>\n",
       "      <td>3.0</td>\n",
       "      <td>18</td>\n",
       "    </tr>\n",
       "  </tbody>\n",
       "</table>\n",
       "</div>"
      ],
      "text/plain": [
       "   customer_id  gross_revenue  recency_days  qty_invoices  qty_prod_purchased  \\\n",
       "0        17850        4046.51           372            34                1191   \n",
       "1        13047        2392.96            31            10                1159   \n",
       "2        12583        6507.44             2            15                4854   \n",
       "3        13748         948.25            95             5                 439   \n",
       "4        15291        4396.00            25            15                1949   \n",
       "\n",
       "   range_of_products  avg_ticket  frequency  qty_returns  \\\n",
       "0                204   19.835833  17.000000         37.0   \n",
       "1                130   18.407385   0.029155         36.0   \n",
       "2                225   28.921956   0.040323         51.0   \n",
       "3                 28   33.866071   0.017921          0.0   \n",
       "4                 96   45.791667   0.042980         29.0   \n",
       "\n",
       "   avg_qty_products_purchased  week_day  month  cluster  \n",
       "0                   35.029412       2.0   11.0        4  \n",
       "1                  115.900000       1.0   11.0        5  \n",
       "2                  323.600000       1.0   11.0        8  \n",
       "3                   87.800000       2.0    4.0        9  \n",
       "4                  129.933333       6.0    3.0       18  "
      ]
     },
     "execution_count": 3,
     "metadata": {},
     "output_type": "execute_result"
    }
   ],
   "source": [
    "df_ml.head()"
   ]
  },
  {
   "cell_type": "markdown",
   "id": "6607f691-c8f8-4e41-ae74-bbc073410de7",
   "metadata": {},
   "source": [
    "# 2. BUILDING THE APP"
   ]
  },
  {
   "cell_type": "code",
   "execution_count": null,
   "id": "39748aea-e621-4c7f-ad3b-19df6b9ef5c8",
   "metadata": {},
   "outputs": [],
   "source": []
  }
 ],
 "metadata": {
  "kernelspec": {
   "display_name": "Python 3 (ipykernel)",
   "language": "python",
   "name": "python3"
  },
  "language_info": {
   "codemirror_mode": {
    "name": "ipython",
    "version": 3
   },
   "file_extension": ".py",
   "mimetype": "text/x-python",
   "name": "python",
   "nbconvert_exporter": "python",
   "pygments_lexer": "ipython3",
   "version": "3.12.7"
  }
 },
 "nbformat": 4,
 "nbformat_minor": 5
}
